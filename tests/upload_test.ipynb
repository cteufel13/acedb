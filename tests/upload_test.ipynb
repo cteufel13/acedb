{
 "cells": [
  {
   "cell_type": "code",
   "execution_count": 1,
   "id": "bdab4317",
   "metadata": {},
   "outputs": [],
   "source": [
    "import sys\n",
    "import os\n",
    "sys.path.append('..')\n",
    "from acedb import AceDB\n",
    "import polars as pl\n"
   ]
  },
  {
   "cell_type": "code",
   "execution_count": 2,
   "id": "4c6088a2",
   "metadata": {},
   "outputs": [
    {
     "name": "stdout",
     "output_type": "stream",
     "text": [
      "/Users/carloteufel\n",
      "Database connection established.\n",
      "Databento client initialized.\n"
     ]
    }
   ],
   "source": [
    "acedb = AceDB()"
   ]
  },
  {
   "cell_type": "code",
   "execution_count": 3,
   "id": "05261089",
   "metadata": {},
   "outputs": [],
   "source": [
    "data = pl.read_csv('xnas-itch-20180501-20250421.ohlcv-1m.csv')"
   ]
  },
  {
   "cell_type": "code",
   "execution_count": 4,
   "id": "89db3070",
   "metadata": {},
   "outputs": [
    {
     "name": "stdout",
     "output_type": "stream",
     "text": [
      "Schema ohlcv-1m not found in database. Creating it.\n",
      "Table ohlcv_1m created in Schema XNAS_ITCH.\n",
      "Data inserted into XNAS_ITCH.ohlcv_1m.\n"
     ]
    }
   ],
   "source": [
    "acedb.insert_db(dataset='XNAS.ITCH',schema='ohlcv-1m', data=data)"
   ]
  },
  {
   "cell_type": "code",
   "execution_count": null,
   "id": "80f31a1d",
   "metadata": {},
   "outputs": [],
   "source": []
  }
 ],
 "metadata": {
  "kernelspec": {
   "display_name": ".venv",
   "language": "python",
   "name": "python3"
  },
  "language_info": {
   "codemirror_mode": {
    "name": "ipython",
    "version": 3
   },
   "file_extension": ".py",
   "mimetype": "text/x-python",
   "name": "python",
   "nbconvert_exporter": "python",
   "pygments_lexer": "ipython3",
   "version": "3.11.8"
  }
 },
 "nbformat": 4,
 "nbformat_minor": 5
}
