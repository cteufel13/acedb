{
 "cells": [
  {
   "cell_type": "code",
   "execution_count": 1,
   "id": "54fc3a0f",
   "metadata": {},
   "outputs": [],
   "source": [
    "import sys\n",
    "import os\n",
    "sys.path.append('..')\n",
    "from acedb import AceDB\n"
   ]
  },
  {
   "cell_type": "code",
   "execution_count": 2,
   "id": "b688e013",
   "metadata": {},
   "outputs": [
    {
     "name": "stdout",
     "output_type": "stream",
     "text": [
      "Database connection established.\n",
      "Databento client initialized.\n"
     ]
    }
   ],
   "source": [
    "acedb = AceDB()"
   ]
  },
  {
   "cell_type": "code",
   "execution_count": null,
   "id": "806e350c",
   "metadata": {},
   "outputs": [
    {
     "name": "stdout",
     "output_type": "stream",
     "text": [
      "SELECT EXISTS (SELECT 1 FROM information_schema.schemata WHERE schema_name = %s) AS dataset_exists\n",
      "(True,)\n",
      "Downloading data...\n",
      "Data downloaded to data/ohlcv-1m_AAPL_20250517_200446.csv\n"
     ]
    }
   ],
   "source": [
    "data=acedb.get_data(dataset='IFEU.IMPACT',schemas=[\"ohlcv-1d\"], symbols=['BRN'], start='2018-12-23', end='2019-12-23',use_databento=True,download=True,filetype='csv',path='data')"
   ]
  },
  {
   "cell_type": "code",
   "execution_count": 5,
   "id": "9ec6eada",
   "metadata": {},
   "outputs": [
    {
     "data": {
      "text/plain": [
       "{'ohlcv-1m': {'AAPL':                    ts_event rtype publisher_id instrument_id     open  \\\n",
       "  0       2018-05-11 17:13:00    33            2            13  188.635   \n",
       "  1       2018-05-11 17:14:00    33            2            13  188.620   \n",
       "  2       2018-05-11 17:15:00    33            2            13  188.650   \n",
       "  3       2018-05-11 17:16:00    33            2            13  188.670   \n",
       "  4       2018-05-11 17:17:00    33            2            13  188.710   \n",
       "  ...                     ...   ...          ...           ...      ...   \n",
       "  1348064 2025-04-30 23:53:00    33            2            38  209.730   \n",
       "  1348065 2025-04-30 23:54:00    33            2            38  209.740   \n",
       "  1348066 2025-04-30 23:55:00    33            2            38  209.750   \n",
       "  1348067 2025-04-30 23:56:00    33            2            38  209.750   \n",
       "  1348068 2025-04-30 23:57:00    33            2            38  209.850   \n",
       "  \n",
       "              high      low    close volume symbol  \n",
       "  0        188.650  188.610  188.620   1542   AAPL  \n",
       "  1        188.650  188.610  188.630    941   AAPL  \n",
       "  2        188.680  188.620  188.670   3412   AAPL  \n",
       "  3        188.730  188.670  188.720   2384   AAPL  \n",
       "  4        188.780  188.700  188.740   3600   AAPL  \n",
       "  ...          ...      ...      ...    ...    ...  \n",
       "  1348064  209.750  209.690  209.690   2104   AAPL  \n",
       "  1348065  209.740  209.740  209.740    100   AAPL  \n",
       "  1348066  209.750  209.750  209.750   1653   AAPL  \n",
       "  1348067  209.750  209.700  209.750    379   AAPL  \n",
       "  1348068  209.850  209.500  209.500   5150   AAPL  \n",
       "  \n",
       "  [1348069 rows x 10 columns]}}"
      ]
     },
     "execution_count": 5,
     "metadata": {},
     "output_type": "execute_result"
    }
   ],
   "source": [
    "data"
   ]
  },
  {
   "cell_type": "code",
   "execution_count": null,
   "id": "1d39e554",
   "metadata": {},
   "outputs": [],
   "source": []
  }
 ],
 "metadata": {
  "kernelspec": {
   "display_name": ".venv",
   "language": "python",
   "name": "python3"
  },
  "language_info": {
   "codemirror_mode": {
    "name": "ipython",
    "version": 3
   },
   "file_extension": ".py",
   "mimetype": "text/x-python",
   "name": "python",
   "nbconvert_exporter": "python",
   "pygments_lexer": "ipython3",
   "version": "3.11.8"
  }
 },
 "nbformat": 4,
 "nbformat_minor": 5
}
