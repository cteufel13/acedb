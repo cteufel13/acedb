{
 "cells": [
  {
   "cell_type": "code",
   "execution_count": 1,
   "id": "54fc3a0f",
   "metadata": {},
   "outputs": [],
   "source": [
    "import sys\n",
    "import os\n",
    "from acedb import AceDB\n",
    "sys.path.append('..')\n"
   ]
  },
  {
   "cell_type": "code",
   "execution_count": 2,
   "id": "b688e013",
   "metadata": {},
   "outputs": [
    {
     "name": "stdout",
     "output_type": "stream",
     "text": [
      "/Users/carloteufel\n",
      "Database connection established.\n",
      "Databento client initialized.\n"
     ]
    }
   ],
   "source": [
    "acedb = AceDB()"
   ]
  },
  {
   "cell_type": "code",
   "execution_count": 3,
   "id": "806e350c",
   "metadata": {},
   "outputs": [
    {
     "name": "stdout",
     "output_type": "stream",
     "text": [
      "Schema ohlcv-1s not found in database. Creating it.\n",
      "[{'name': 'length', 'type': 'uint8_t'}, {'name': 'rtype', 'type': 'uint8_t'}, {'name': 'publisher_id', 'type': 'uint16_t'}, {'name': 'instrument_id', 'type': 'uint32_t'}, {'name': 'ts_event', 'type': 'uint64_t'}, {'name': 'open', 'type': 'int64_t'}, {'name': 'high', 'type': 'int64_t'}, {'name': 'low', 'type': 'int64_t'}, {'name': 'close', 'type': 'int64_t'}, {'name': 'volume', 'type': 'uint64_t'}]\n",
      "length SMALLINT,\n",
      "    rtype SMALLINT,\n",
      "    publisher_id INT,\n",
      "    instrument_id BIGINT,\n",
      "    ts_event BIGINT,\n",
      "    open BIGINT,\n",
      "    high BIGINT,\n",
      "    low BIGINT,\n",
      "    close BIGINT,\n",
      "    volume BIGINT\n",
      "Table ohlcv_1s created in Schema XNAS_ITCH.\n",
      "Database connection closed.\n"
     ]
    }
   ],
   "source": [
    "acedb.get(dataset=\"XNAS.ITCH\",schemas=\"ohlcv-1s\",symbols=[\"AAPL\"])"
   ]
  },
  {
   "cell_type": "code",
   "execution_count": null,
   "id": "564dbb28",
   "metadata": {},
   "outputs": [
    {
     "ename": "FileNotFoundError",
     "evalue": "./xnas-itch-20250319-20250418.ohlcv-1d.dbn.zst",
     "output_type": "error",
     "traceback": [
      "\u001b[31m---------------------------------------------------------------------------\u001b[39m",
      "\u001b[31mFileNotFoundError\u001b[39m                         Traceback (most recent call last)",
      "\u001b[36mCell\u001b[39m\u001b[36m \u001b[39m\u001b[32mIn[5]\u001b[39m\u001b[32m, line 3\u001b[39m\n\u001b[32m      1\u001b[39m \u001b[38;5;28;01mimport\u001b[39;00m\u001b[38;5;250m \u001b[39m\u001b[34;01mdatabento\u001b[39;00m\u001b[38;5;250m \u001b[39m\u001b[38;5;28;01mas\u001b[39;00m\u001b[38;5;250m \u001b[39m\u001b[34;01mdb\u001b[39;00m\n\u001b[32m----> \u001b[39m\u001b[32m3\u001b[39m df = \u001b[43mdb\u001b[49m\u001b[43m.\u001b[49m\u001b[43mDBNStore\u001b[49m\u001b[43m.\u001b[49m\u001b[43mfrom_file\u001b[49m\u001b[43m(\u001b[49m\u001b[33;43m'\u001b[39;49m\u001b[33;43m./xnas-itch-20250319-20250418.ohlcv-1d.dbn.zst\u001b[39;49m\u001b[33;43m'\u001b[39;49m\u001b[43m)\u001b[49m.to_df()\n",
      "\u001b[36mFile \u001b[39m\u001b[32m~/Documents/Projects/acedb/.venv/lib/python3.11/site-packages/databento/common/dbnstore.py:650\u001b[39m, in \u001b[36mDBNStore.from_file\u001b[39m\u001b[34m(cls, path)\u001b[39m\n\u001b[32m    628\u001b[39m \u001b[38;5;129m@classmethod\u001b[39m\n\u001b[32m    629\u001b[39m \u001b[38;5;28;01mdef\u001b[39;00m\u001b[38;5;250m \u001b[39m\u001b[34mfrom_file\u001b[39m(\u001b[38;5;28mcls\u001b[39m, path: PathLike[\u001b[38;5;28mstr\u001b[39m] | \u001b[38;5;28mstr\u001b[39m) -> DBNStore:\n\u001b[32m    630\u001b[39m \u001b[38;5;250m    \u001b[39m\u001b[33;03m\"\"\"\u001b[39;00m\n\u001b[32m    631\u001b[39m \u001b[33;03m    Load the data from a DBN file at the given path.\u001b[39;00m\n\u001b[32m    632\u001b[39m \n\u001b[32m   (...)\u001b[39m\u001b[32m    648\u001b[39m \n\u001b[32m    649\u001b[39m \u001b[33;03m    \"\"\"\u001b[39;00m\n\u001b[32m--> \u001b[39m\u001b[32m650\u001b[39m     \u001b[38;5;28;01mreturn\u001b[39;00m \u001b[38;5;28mcls\u001b[39m(\u001b[43mFileDataSource\u001b[49m\u001b[43m(\u001b[49m\u001b[43mpath\u001b[49m\u001b[43m)\u001b[49m)\n",
      "\u001b[36mFile \u001b[39m\u001b[32m~/Documents/Projects/acedb/.venv/lib/python3.11/site-packages/databento/common/dbnstore.py:149\u001b[39m, in \u001b[36mFileDataSource.__init__\u001b[39m\u001b[34m(self, source)\u001b[39m\n\u001b[32m    146\u001b[39m \u001b[38;5;28mself\u001b[39m._path = Path(source)\n\u001b[32m    148\u001b[39m \u001b[38;5;28;01mif\u001b[39;00m \u001b[38;5;129;01mnot\u001b[39;00m \u001b[38;5;28mself\u001b[39m._path.is_file() \u001b[38;5;129;01mor\u001b[39;00m \u001b[38;5;129;01mnot\u001b[39;00m \u001b[38;5;28mself\u001b[39m._path.exists():\n\u001b[32m--> \u001b[39m\u001b[32m149\u001b[39m     \u001b[38;5;28;01mraise\u001b[39;00m \u001b[38;5;167;01mFileNotFoundError\u001b[39;00m(source)\n\u001b[32m    151\u001b[39m \u001b[38;5;28;01mif\u001b[39;00m \u001b[38;5;28mself\u001b[39m._path.stat().st_size == \u001b[32m0\u001b[39m:\n\u001b[32m    152\u001b[39m     \u001b[38;5;28;01mraise\u001b[39;00m \u001b[38;5;167;01mValueError\u001b[39;00m(\n\u001b[32m    153\u001b[39m         \u001b[33mf\u001b[39m\u001b[33m\"\u001b[39m\u001b[33mCannot create data source from empty file: \u001b[39m\u001b[38;5;132;01m{\u001b[39;00m\u001b[38;5;28mself\u001b[39m._path.name\u001b[38;5;132;01m}\u001b[39;00m\u001b[33m\"\u001b[39m,\n\u001b[32m    154\u001b[39m     )\n",
      "\u001b[31mFileNotFoundError\u001b[39m: ./xnas-itch-20250319-20250418.ohlcv-1d.dbn.zst"
     ]
    }
   ],
   "source": [
    "import databento as db\n",
    "import zstandard as zstd\n",
    "\n",
    "def decompress_zst(src_path: str, dest_path: str):\n",
    "    with open(src_path, 'rb') as compressed, open(dest_path, 'wb') as destination:\n",
    "        dctx = zstd.ZstdDecompressor()\n",
    "        # copy_stream handles streaming large files efficiently\n",
    "        dctx.copy_stream(compressed, destination)\n",
    "\n",
    "df = db.DBNStore.from_file('xnas-itch-20250319-20250418.ohlcv-1d.dbn.zst').to_df()"
   ]
  },
  {
   "cell_type": "code",
   "execution_count": null,
   "id": "9ee6f4be",
   "metadata": {},
   "outputs": [],
   "source": []
  }
 ],
 "metadata": {
  "kernelspec": {
   "display_name": ".venv",
   "language": "python",
   "name": "python3"
  },
  "language_info": {
   "codemirror_mode": {
    "name": "ipython",
    "version": 3
   },
   "file_extension": ".py",
   "mimetype": "text/x-python",
   "name": "python",
   "nbconvert_exporter": "python",
   "pygments_lexer": "ipython3",
   "version": "3.11.8"
  }
 },
 "nbformat": 4,
 "nbformat_minor": 5
}
