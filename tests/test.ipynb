{
 "cells": [
  {
   "cell_type": "code",
   "execution_count": 1,
   "id": "54fc3a0f",
   "metadata": {},
   "outputs": [],
   "source": [
    "import sys\n",
    "import os\n",
    "sys.path.append('..')\n",
    "from acedb import AceDB\n"
   ]
  },
  {
   "cell_type": "code",
   "execution_count": 2,
   "id": "b688e013",
   "metadata": {},
   "outputs": [
    {
     "name": "stdout",
     "output_type": "stream",
     "text": [
      "/Users/carloteufel\n",
      "Database connection established.\n",
      "Databento client initialized.\n"
     ]
    }
   ],
   "source": [
    "acedb = AceDB()"
   ]
  },
  {
   "cell_type": "code",
   "execution_count": 3,
   "id": "806e350c",
   "metadata": {},
   "outputs": [
    {
     "name": "stdout",
     "output_type": "stream",
     "text": [
      "Dataset XNAS.ITCH not found in database. Creating it.\n"
     ]
    },
    {
     "ename": "InsufficientPrivilege",
     "evalue": "permission denied for database qrg_database\n",
     "output_type": "error",
     "traceback": [
      "\u001b[31m---------------------------------------------------------------------------\u001b[39m",
      "\u001b[31mInsufficientPrivilege\u001b[39m                     Traceback (most recent call last)",
      "\u001b[36mCell\u001b[39m\u001b[36m \u001b[39m\u001b[32mIn[3]\u001b[39m\u001b[32m, line 1\u001b[39m\n\u001b[32m----> \u001b[39m\u001b[32m1\u001b[39m data = \u001b[43macedb\u001b[49m\u001b[43m.\u001b[49m\u001b[43mget\u001b[49m\u001b[43m(\u001b[49m\u001b[43mdataset\u001b[49m\u001b[43m=\u001b[49m\u001b[33;43m\"\u001b[39;49m\u001b[33;43mXNAS.ITCH\u001b[39;49m\u001b[33;43m\"\u001b[39;49m\u001b[43m,\u001b[49m\u001b[43mschemas\u001b[49m\u001b[43m=\u001b[49m\u001b[33;43m\"\u001b[39;49m\u001b[33;43mohlcv-1m\u001b[39;49m\u001b[33;43m\"\u001b[39;49m\u001b[43m,\u001b[49m\u001b[43msymbols\u001b[49m\u001b[43m=\u001b[49m\u001b[43m[\u001b[49m\u001b[33;43m\"\u001b[39;49m\u001b[33;43mSPY\u001b[39;49m\u001b[33;43m\"\u001b[39;49m\u001b[43m,\u001b[49m\u001b[33;43m\"\u001b[39;49m\u001b[33;43mAAPL\u001b[39;49m\u001b[33;43m\"\u001b[39;49m\u001b[43m]\u001b[49m\u001b[43m)\u001b[49m\n",
      "\u001b[36mFile \u001b[39m\u001b[32m~/Documents/Projects/acedb/tests/../acedb/acedb.py:69\u001b[39m, in \u001b[36mAceDB.get\u001b[39m\u001b[34m(self, dataset, schemas, symbols, start, end, **kwargs)\u001b[39m\n\u001b[32m     67\u001b[39m \u001b[38;5;28;01mif\u001b[39;00m \u001b[38;5;129;01mnot\u001b[39;00m \u001b[38;5;28mself\u001b[39m._check_ds_in_dbase(dataset):\n\u001b[32m     68\u001b[39m     \u001b[38;5;28mprint\u001b[39m(\u001b[33mf\u001b[39m\u001b[33m\"\u001b[39m\u001b[33mDataset \u001b[39m\u001b[38;5;132;01m{\u001b[39;00mdataset\u001b[38;5;132;01m}\u001b[39;00m\u001b[33m not found in database. Creating it.\u001b[39m\u001b[33m\"\u001b[39m)\n\u001b[32m---> \u001b[39m\u001b[32m69\u001b[39m     \u001b[38;5;28;43mself\u001b[39;49m\u001b[43m.\u001b[49m\u001b[43m_create_dataset\u001b[49m\u001b[43m(\u001b[49m\u001b[43mdataset\u001b[49m\u001b[43m)\u001b[49m\n\u001b[32m     71\u001b[39m result = {}\n\u001b[32m     73\u001b[39m \u001b[38;5;28;01mfor\u001b[39;00m schema \u001b[38;5;129;01min\u001b[39;00m schemas:\n",
      "\u001b[36mFile \u001b[39m\u001b[32m~/Documents/Projects/acedb/tests/../acedb/acedb.py:365\u001b[39m, in \u001b[36mAceDB._create_dataset\u001b[39m\u001b[34m(self, dataset)\u001b[39m\n\u001b[32m    362\u001b[39m dataset = \u001b[38;5;28mself\u001b[39m._convert_for_SQL(dataset)\n\u001b[32m    364\u001b[39m create_dataset_query = \u001b[33mf\u001b[39m\u001b[33m\"\u001b[39m\u001b[33mCREATE SCHEMA \u001b[39m\u001b[38;5;132;01m{\u001b[39;00mdataset\u001b[38;5;132;01m}\u001b[39;00m\u001b[33m\"\u001b[39m\n\u001b[32m--> \u001b[39m\u001b[32m365\u001b[39m \u001b[38;5;28;43mself\u001b[39;49m\u001b[43m.\u001b[49m\u001b[43m_cursor\u001b[49m\u001b[43m.\u001b[49m\u001b[43mexecute\u001b[49m\u001b[43m(\u001b[49m\u001b[43mcreate_dataset_query\u001b[49m\u001b[43m)\u001b[49m\n\u001b[32m    366\u001b[39m \u001b[38;5;28mprint\u001b[39m(\u001b[33mf\u001b[39m\u001b[33m\"\u001b[39m\u001b[33mDataset \u001b[39m\u001b[38;5;132;01m{\u001b[39;00mdataset\u001b[38;5;132;01m}\u001b[39;00m\u001b[33m created.\u001b[39m\u001b[33m\"\u001b[39m)\n",
      "\u001b[31mInsufficientPrivilege\u001b[39m: permission denied for database qrg_database\n"
     ]
    }
   ],
   "source": [
    "data = acedb.get(dataset=\"XNAS.ITCH\",schemas=\"ohlcv-1m\",symbols=[\"SPY\",\"AAPL\"])"
   ]
  },
  {
   "cell_type": "code",
   "execution_count": null,
   "id": "9ec6eada",
   "metadata": {},
   "outputs": [
    {
     "data": {
      "text/html": [
       "<div><style>\n",
       ".dataframe > thead > tr,\n",
       ".dataframe > tbody > tr {\n",
       "  text-align: right;\n",
       "  white-space: pre-wrap;\n",
       "}\n",
       "</style>\n",
       "<small>shape: (1_287_313, 10)</small><table border=\"1\" class=\"dataframe\"><thead><tr><th>ts_event</th><th>rtype</th><th>publisher_id</th><th>instrument_id</th><th>open</th><th>high</th><th>low</th><th>close</th><th>volume</th><th>symbol</th></tr><tr><td>datetime[μs]</td><td>decimal[*,0]</td><td>decimal[*,0]</td><td>decimal[*,0]</td><td>decimal[*,3]</td><td>decimal[*,3]</td><td>decimal[*,3]</td><td>decimal[*,3]</td><td>decimal[*,0]</td><td>str</td></tr></thead><tbody><tr><td>2018-05-01 08:04:00</td><td>33</td><td>2</td><td>7177</td><td>264.570</td><td>264.570</td><td>264.570</td><td>264.570</td><td>20</td><td>&quot;SPY&quot;</td></tr><tr><td>2018-05-01 08:09:00</td><td>33</td><td>2</td><td>7177</td><td>264.500</td><td>264.500</td><td>264.500</td><td>264.500</td><td>400</td><td>&quot;SPY&quot;</td></tr><tr><td>2018-05-01 08:10:00</td><td>33</td><td>2</td><td>7177</td><td>264.540</td><td>264.540</td><td>264.540</td><td>264.540</td><td>2500</td><td>&quot;SPY&quot;</td></tr><tr><td>2018-05-01 08:17:00</td><td>33</td><td>2</td><td>7177</td><td>264.470</td><td>264.470</td><td>264.470</td><td>264.470</td><td>1100</td><td>&quot;SPY&quot;</td></tr><tr><td>2018-05-01 08:25:00</td><td>33</td><td>2</td><td>7177</td><td>264.530</td><td>264.530</td><td>264.530</td><td>264.530</td><td>300</td><td>&quot;SPY&quot;</td></tr><tr><td>&hellip;</td><td>&hellip;</td><td>&hellip;</td><td>&hellip;</td><td>&hellip;</td><td>&hellip;</td><td>&hellip;</td><td>&hellip;</td><td>&hellip;</td><td>&hellip;</td></tr><tr><td>2025-04-21 23:57:00</td><td>33</td><td>2</td><td>15144</td><td>515.770</td><td>515.990</td><td>515.770</td><td>515.990</td><td>990</td><td>&quot;SPY&quot;</td></tr><tr><td>2025-04-21 23:58:00</td><td>33</td><td>2</td><td>15144</td><td>515.990</td><td>516.070</td><td>515.910</td><td>516.070</td><td>2170</td><td>&quot;SPY&quot;</td></tr><tr><td>2025-04-21 23:58:00</td><td>33</td><td>2</td><td>15144</td><td>515.990</td><td>516.070</td><td>515.910</td><td>516.070</td><td>2170</td><td>&quot;SPY&quot;</td></tr><tr><td>2025-04-21 23:58:00</td><td>33</td><td>2</td><td>15144</td><td>515.990</td><td>516.070</td><td>515.910</td><td>516.070</td><td>2170</td><td>&quot;SPY&quot;</td></tr><tr><td>2025-04-21 23:58:00</td><td>33</td><td>2</td><td>15144</td><td>515.990</td><td>516.070</td><td>515.910</td><td>516.070</td><td>2170</td><td>&quot;SPY&quot;</td></tr></tbody></table></div>"
      ],
      "text/plain": [
       "shape: (1_287_313, 10)\n",
       "┌────────────┬────────────┬───────────┬───────────┬───┬───────────┬───────────┬───────────┬────────┐\n",
       "│ ts_event   ┆ rtype      ┆ publisher ┆ instrumen ┆ … ┆ low       ┆ close     ┆ volume    ┆ symbol │\n",
       "│ ---        ┆ ---        ┆ _id       ┆ t_id      ┆   ┆ ---       ┆ ---       ┆ ---       ┆ ---    │\n",
       "│ datetime[μ ┆ decimal[*, ┆ ---       ┆ ---       ┆   ┆ decimal[* ┆ decimal[* ┆ decimal[* ┆ str    │\n",
       "│ s]         ┆ 0]         ┆ decimal[* ┆ decimal[* ┆   ┆ ,3]       ┆ ,3]       ┆ ,0]       ┆        │\n",
       "│            ┆            ┆ ,0]       ┆ ,0]       ┆   ┆           ┆           ┆           ┆        │\n",
       "╞════════════╪════════════╪═══════════╪═══════════╪═══╪═══════════╪═══════════╪═══════════╪════════╡\n",
       "│ 2018-05-01 ┆ 33         ┆ 2         ┆ 7177      ┆ … ┆ 264.570   ┆ 264.570   ┆ 20        ┆ SPY    │\n",
       "│ 08:04:00   ┆            ┆           ┆           ┆   ┆           ┆           ┆           ┆        │\n",
       "│ 2018-05-01 ┆ 33         ┆ 2         ┆ 7177      ┆ … ┆ 264.500   ┆ 264.500   ┆ 400       ┆ SPY    │\n",
       "│ 08:09:00   ┆            ┆           ┆           ┆   ┆           ┆           ┆           ┆        │\n",
       "│ 2018-05-01 ┆ 33         ┆ 2         ┆ 7177      ┆ … ┆ 264.540   ┆ 264.540   ┆ 2500      ┆ SPY    │\n",
       "│ 08:10:00   ┆            ┆           ┆           ┆   ┆           ┆           ┆           ┆        │\n",
       "│ 2018-05-01 ┆ 33         ┆ 2         ┆ 7177      ┆ … ┆ 264.470   ┆ 264.470   ┆ 1100      ┆ SPY    │\n",
       "│ 08:17:00   ┆            ┆           ┆           ┆   ┆           ┆           ┆           ┆        │\n",
       "│ 2018-05-01 ┆ 33         ┆ 2         ┆ 7177      ┆ … ┆ 264.530   ┆ 264.530   ┆ 300       ┆ SPY    │\n",
       "│ 08:25:00   ┆            ┆           ┆           ┆   ┆           ┆           ┆           ┆        │\n",
       "│ …          ┆ …          ┆ …         ┆ …         ┆ … ┆ …         ┆ …         ┆ …         ┆ …      │\n",
       "│ 2025-04-21 ┆ 33         ┆ 2         ┆ 15144     ┆ … ┆ 515.770   ┆ 515.990   ┆ 990       ┆ SPY    │\n",
       "│ 23:57:00   ┆            ┆           ┆           ┆   ┆           ┆           ┆           ┆        │\n",
       "│ 2025-04-21 ┆ 33         ┆ 2         ┆ 15144     ┆ … ┆ 515.910   ┆ 516.070   ┆ 2170      ┆ SPY    │\n",
       "│ 23:58:00   ┆            ┆           ┆           ┆   ┆           ┆           ┆           ┆        │\n",
       "│ 2025-04-21 ┆ 33         ┆ 2         ┆ 15144     ┆ … ┆ 515.910   ┆ 516.070   ┆ 2170      ┆ SPY    │\n",
       "│ 23:58:00   ┆            ┆           ┆           ┆   ┆           ┆           ┆           ┆        │\n",
       "│ 2025-04-21 ┆ 33         ┆ 2         ┆ 15144     ┆ … ┆ 515.910   ┆ 516.070   ┆ 2170      ┆ SPY    │\n",
       "│ 23:58:00   ┆            ┆           ┆           ┆   ┆           ┆           ┆           ┆        │\n",
       "│ 2025-04-21 ┆ 33         ┆ 2         ┆ 15144     ┆ … ┆ 515.910   ┆ 516.070   ┆ 2170      ┆ SPY    │\n",
       "│ 23:58:00   ┆            ┆           ┆           ┆   ┆           ┆           ┆           ┆        │\n",
       "└────────────┴────────────┴───────────┴───────────┴───┴───────────┴───────────┴───────────┴────────┘"
      ]
     },
     "execution_count": 12,
     "metadata": {},
     "output_type": "execute_result"
    }
   ],
   "source": [
    "stuff = data['ohlcv-1m']['instrument_id']"
   ]
  }
 ],
 "metadata": {
  "kernelspec": {
   "display_name": ".venv",
   "language": "python",
   "name": "python3"
  },
  "language_info": {
   "codemirror_mode": {
    "name": "ipython",
    "version": 3
   },
   "file_extension": ".py",
   "mimetype": "text/x-python",
   "name": "python",
   "nbconvert_exporter": "python",
   "pygments_lexer": "ipython3",
   "version": "3.11.8"
  }
 },
 "nbformat": 4,
 "nbformat_minor": 5
}
