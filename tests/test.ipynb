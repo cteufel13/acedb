{
 "cells": [
  {
   "cell_type": "code",
   "execution_count": 1,
   "id": "54fc3a0f",
   "metadata": {},
   "outputs": [],
   "source": [
    "import sys\n",
    "import os\n",
    "from acedb import AceDB\n",
    "sys.path.append('..')"
   ]
  },
  {
   "cell_type": "code",
   "execution_count": 2,
   "id": "b688e013",
   "metadata": {},
   "outputs": [
    {
     "name": "stdout",
     "output_type": "stream",
     "text": [
      "/Users/carloteufel\n",
      "Database connection established.\n"
     ]
    }
   ],
   "source": [
    "acedb = AceDB()"
   ]
  },
  {
   "cell_type": "code",
   "execution_count": 3,
   "id": "806e350c",
   "metadata": {},
   "outputs": [
    {
     "name": "stdout",
     "output_type": "stream",
     "text": [
      "Schemas in the database:\n",
      "qrg_database_s1\n",
      "information_schema\n",
      "pg_catalog\n",
      "public\n",
      "Schema ('public',) exists in the database.\n"
     ]
    }
   ],
   "source": [
    "acedb.get(dataset=\"XNAS.ITCH\",schema=\"ohlcv-1m\",symbol=[\"AAPL\"])"
   ]
  },
  {
   "cell_type": "code",
   "execution_count": null,
   "id": "564dbb28",
   "metadata": {},
   "outputs": [],
   "source": []
  }
 ],
 "metadata": {
  "kernelspec": {
   "display_name": ".venv",
   "language": "python",
   "name": "python3"
  },
  "language_info": {
   "codemirror_mode": {
    "name": "ipython",
    "version": 3
   },
   "file_extension": ".py",
   "mimetype": "text/x-python",
   "name": "python",
   "nbconvert_exporter": "python",
   "pygments_lexer": "ipython3",
   "version": "3.11.8"
  }
 },
 "nbformat": 4,
 "nbformat_minor": 5
}
