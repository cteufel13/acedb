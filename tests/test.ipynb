{
 "cells": [
  {
   "cell_type": "code",
   "execution_count": 3,
   "id": "54fc3a0f",
   "metadata": {},
   "outputs": [],
   "source": [
    "import sys\n",
    "import os\n",
    "sys.path.append('..')\n",
    "from acedb import AceDB\n"
   ]
  },
  {
   "cell_type": "code",
   "execution_count": 4,
   "id": "b688e013",
   "metadata": {},
   "outputs": [
    {
     "name": "stdout",
     "output_type": "stream",
     "text": [
      "Databento client initialized.\n",
      "FRED client initialized.\n",
      "Database connection established.\n"
     ]
    }
   ],
   "source": [
    "acedb = AceDB()"
   ]
  },
  {
   "cell_type": "code",
   "execution_count": null,
   "id": "806e350c",
   "metadata": {},
   "outputs": [
    {
     "name": "stderr",
     "output_type": "stream",
     "text": [
      "/Users/carloteufel/Documents/Projects/acedb/tests/../acedb/dbnclient.py:32: BentoWarning: No data found for the request you submitted.\n",
      "  data_fragment = self._client.timeseries.get_range(\n",
      "/Users/carloteufel/Documents/Projects/acedb/tests/../acedb/dbnclient.py:32: BentoWarning: The streaming request contained one or more days which have reduced quality: 2010-09-13 (pending). See: https://databento.com/docs/api-reference-historical/metadata/metadata-get-dataset-condition\n",
      "  data_fragment = self._client.timeseries.get_range(\n",
      "/Users/carloteufel/Documents/Projects/acedb/tests/../acedb/dbnclient.py:32: BentoWarning: The streaming request had one or more symbols which did not resolve: ES.C.0.\n",
      "  data_fragment = self._client.timeseries.get_range(\n"
     ]
    },
    {
     "name": "stdout",
     "output_type": "stream",
     "text": [
      "Data inserted into GLBX_MDP3.ohlcv_1h.\n"
     ]
    },
    {
     "data": {
      "text/plain": [
       "{'XNAS.ITCH': {'ohlcv-1h': {'NVDA': [(datetime.datetime(2018, 5, 1, 0, 0),\n",
       "     datetime.datetime(2025, 4, 30, 23, 0))]},\n",
       "  'ohlcv-1m': {'AAPL': [(datetime.datetime(2018, 5, 1, 0, 0),\n",
       "     datetime.datetime(2025, 5, 20, 0, 0))],\n",
       "   'SPY': [(datetime.datetime(2018, 5, 1, 0, 0),\n",
       "     datetime.datetime(2025, 5, 20, 0, 0))],\n",
       "   'NVDA': [(datetime.datetime(2018, 5, 1, 0, 0),\n",
       "     datetime.datetime(2025, 5, 20, 0, 0))]}},\n",
       " 'GLBX.MDP3': {'ohlcv-1h': {'ES.OPT': [(datetime.datetime(2010, 6, 6, 0, 0),\n",
       "     datetime.datetime(2010, 11, 6, 0, 0))],\n",
       "   'ES.c.0': [(datetime.datetime(2010, 6, 6, 0, 0),\n",
       "     datetime.datetime(2010, 11, 6, 0, 0))]}}}"
      ]
     },
     "execution_count": 5,
     "metadata": {},
     "output_type": "execute_result"
    }
   ],
   "source": [
    "data=acedb.get_data(dataset='GLBX.MDP3',schemas=['ohlcv-1d'], symbols=['ES.OPT'], start='2020-05-13',end='2025-05-13',stype_in='parent',use_databento=True,download=False,filetype='csv',path='data')\n",
    "acedb.get_ranges(dataset='GLBX.MDP3',)"
   ]
  },
  {
   "cell_type": "code",
   "execution_count": 6,
   "id": "0784907e",
   "metadata": {},
   "outputs": [
    {
     "ename": "BentoClientError",
     "evalue": "400 data_invalid_datetime_string\nInvalid datetime for `end`, was '2010-0-06'.\ndocumentation: https://databento.com/docs/standards-and-conventions/common-fields-enums-types",
     "output_type": "error",
     "traceback": [
      "\u001b[31m---------------------------------------------------------------------------\u001b[39m",
      "\u001b[31mBentoClientError\u001b[39m                          Traceback (most recent call last)",
      "\u001b[36mCell\u001b[39m\u001b[36m \u001b[39m\u001b[32mIn[6]\u001b[39m\u001b[32m, line 5\u001b[39m\n\u001b[32m      1\u001b[39m \u001b[38;5;28;01mimport\u001b[39;00m\u001b[38;5;250m \u001b[39m\u001b[34;01mdatabento\u001b[39;00m\u001b[38;5;250m \u001b[39m\u001b[38;5;28;01mas\u001b[39;00m\u001b[38;5;250m \u001b[39m\u001b[34;01mdbn\u001b[39;00m\n\u001b[32m      3\u001b[39m client = dbn.Historical()\n\u001b[32m----> \u001b[39m\u001b[32m5\u001b[39m \u001b[43mclient\u001b[49m\u001b[43m.\u001b[49m\u001b[43mmetadata\u001b[49m\u001b[43m.\u001b[49m\u001b[43mget_cost\u001b[49m\u001b[43m(\u001b[49m\u001b[43mdataset\u001b[49m\u001b[43m \u001b[49m\u001b[43m=\u001b[49m\u001b[43m \u001b[49m\u001b[33;43m'\u001b[39;49m\u001b[33;43mGLBX.MDP3\u001b[39;49m\u001b[33;43m'\u001b[39;49m\u001b[43m,\u001b[49m\u001b[43mstart\u001b[49m\u001b[43m=\u001b[49m\u001b[33;43m'\u001b[39;49m\u001b[33;43m2010-06-06\u001b[39;49m\u001b[33;43m'\u001b[39;49m\u001b[43m,\u001b[49m\u001b[43mend\u001b[49m\u001b[43m=\u001b[49m\u001b[33;43m'\u001b[39;49m\u001b[33;43m2010-0-06\u001b[39;49m\u001b[33;43m'\u001b[39;49m\u001b[43m,\u001b[49m\u001b[43msymbols\u001b[49m\u001b[43m=\u001b[49m\u001b[43m[\u001b[49m\u001b[33;43m'\u001b[39;49m\u001b[33;43mES.OPT\u001b[39;49m\u001b[33;43m'\u001b[39;49m\u001b[43m]\u001b[49m\u001b[43m,\u001b[49m\u001b[43mschema\u001b[49m\u001b[43m=\u001b[49m\u001b[33;43m'\u001b[39;49m\u001b[33;43mohlcv-1h\u001b[39;49m\u001b[33;43m'\u001b[39;49m\u001b[43m,\u001b[49m\u001b[43mstype_in\u001b[49m\u001b[43m=\u001b[49m\u001b[33;43m'\u001b[39;49m\u001b[33;43mparent\u001b[39;49m\u001b[33;43m'\u001b[39;49m\u001b[43m)\u001b[49m\n",
      "\u001b[36mFile \u001b[39m\u001b[32m~/Documents/Projects/acedb/.venv/lib/python3.11/site-packages/databento/historical/api/metadata.py:461\u001b[39m, in \u001b[36mMetadataHttpAPI.get_cost\u001b[39m\u001b[34m(self, dataset, start, end, mode, symbols, schema, stype_in, limit)\u001b[39m\n\u001b[32m    458\u001b[39m \u001b[38;5;28;01mif\u001b[39;00m limit \u001b[38;5;129;01mis\u001b[39;00m \u001b[38;5;129;01mnot\u001b[39;00m \u001b[38;5;28;01mNone\u001b[39;00m:\n\u001b[32m    459\u001b[39m     data[\u001b[33m\"\u001b[39m\u001b[33mlimit\u001b[39m\u001b[33m\"\u001b[39m] = \u001b[38;5;28mstr\u001b[39m(limit)\n\u001b[32m--> \u001b[39m\u001b[32m461\u001b[39m response: Response = \u001b[38;5;28;43mself\u001b[39;49m\u001b[43m.\u001b[49m\u001b[43m_post\u001b[49m\u001b[43m(\u001b[49m\n\u001b[32m    462\u001b[39m \u001b[43m    \u001b[49m\u001b[43murl\u001b[49m\u001b[43m=\u001b[49m\u001b[38;5;28;43mself\u001b[39;49m\u001b[43m.\u001b[49m\u001b[43m_base_url\u001b[49m\u001b[43m \u001b[49m\u001b[43m+\u001b[49m\u001b[43m \u001b[49m\u001b[33;43m\"\u001b[39;49m\u001b[33;43m.get_cost\u001b[39;49m\u001b[33;43m\"\u001b[39;49m\u001b[43m,\u001b[49m\n\u001b[32m    463\u001b[39m \u001b[43m    \u001b[49m\u001b[43mdata\u001b[49m\u001b[43m=\u001b[49m\u001b[43mdata\u001b[49m\u001b[43m,\u001b[49m\n\u001b[32m    464\u001b[39m \u001b[43m    \u001b[49m\u001b[43mbasic_auth\u001b[49m\u001b[43m=\u001b[49m\u001b[38;5;28;43;01mTrue\u001b[39;49;00m\u001b[43m,\u001b[49m\n\u001b[32m    465\u001b[39m \u001b[43m\u001b[49m\u001b[43m)\u001b[49m\n\u001b[32m    467\u001b[39m \u001b[38;5;28;01mreturn\u001b[39;00m response.json()\n",
      "\u001b[36mFile \u001b[39m\u001b[32m~/Documents/Projects/acedb/.venv/lib/python3.11/site-packages/databento/common/http.py:113\u001b[39m, in \u001b[36mBentoHttpAPI._post\u001b[39m\u001b[34m(self, url, data, params, basic_auth)\u001b[39m\n\u001b[32m    104\u001b[39m \u001b[38;5;28;01mwith\u001b[39;00m requests.post(\n\u001b[32m    105\u001b[39m     url=url,\n\u001b[32m    106\u001b[39m     data=data,\n\u001b[32m   (...)\u001b[39m\u001b[32m    110\u001b[39m     timeout=(\u001b[38;5;28mself\u001b[39m.TIMEOUT, \u001b[38;5;28mself\u001b[39m.TIMEOUT),\n\u001b[32m    111\u001b[39m ) \u001b[38;5;28;01mas\u001b[39;00m response:\n\u001b[32m    112\u001b[39m     check_backend_warnings(response)\n\u001b[32m--> \u001b[39m\u001b[32m113\u001b[39m     \u001b[43mcheck_http_error\u001b[49m\u001b[43m(\u001b[49m\u001b[43mresponse\u001b[49m\u001b[43m)\u001b[49m\n\u001b[32m    114\u001b[39m     \u001b[38;5;28;01mreturn\u001b[39;00m response\n",
      "\u001b[36mFile \u001b[39m\u001b[32m~/Documents/Projects/acedb/.venv/lib/python3.11/site-packages/databento/common/http.py:249\u001b[39m, in \u001b[36mcheck_http_error\u001b[39m\u001b[34m(response)\u001b[39m\n\u001b[32m    247\u001b[39m \u001b[38;5;28;01mif\u001b[39;00m response.status_code == \u001b[32m408\u001b[39m:\n\u001b[32m    248\u001b[39m     message = \u001b[33m\"\u001b[39m\u001b[33mThe request transmission timed out.\u001b[39m\u001b[33m\"\u001b[39m\n\u001b[32m--> \u001b[39m\u001b[32m249\u001b[39m \u001b[38;5;28;01mraise\u001b[39;00m BentoClientError(\n\u001b[32m    250\u001b[39m     http_status=response.status_code,\n\u001b[32m    251\u001b[39m     http_body=response.content,\n\u001b[32m    252\u001b[39m     json_body=json_body,\n\u001b[32m    253\u001b[39m     message=message,\n\u001b[32m    254\u001b[39m     headers=response.headers,\n\u001b[32m    255\u001b[39m )\n",
      "\u001b[31mBentoClientError\u001b[39m: 400 data_invalid_datetime_string\nInvalid datetime for `end`, was '2010-0-06'.\ndocumentation: https://databento.com/docs/standards-and-conventions/common-fields-enums-types"
     ]
    }
   ],
   "source": [
    "import databento as dbn\n",
    "\n",
    "client = dbn.Historical()\n",
    "\n",
    "client.metadata.get_cost(dataset = 'GLBX.MDP3',start='2010-06-06',end='2010-0-06',symbols=['ES.OPT'],schema='ohlcv-1h',stype_in='parent')"
   ]
  },
  {
   "cell_type": "code",
   "execution_count": null,
   "id": "27eaa90b",
   "metadata": {},
   "outputs": [],
   "source": []
  }
 ],
 "metadata": {
  "kernelspec": {
   "display_name": ".venv",
   "language": "python",
   "name": "python3"
  },
  "language_info": {
   "codemirror_mode": {
    "name": "ipython",
    "version": 3
   },
   "file_extension": ".py",
   "mimetype": "text/x-python",
   "name": "python",
   "nbconvert_exporter": "python",
   "pygments_lexer": "ipython3",
   "version": "3.11.8"
  }
 },
 "nbformat": 4,
 "nbformat_minor": 5
}
