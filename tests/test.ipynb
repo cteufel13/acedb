{
 "cells": [
  {
   "cell_type": "code",
   "execution_count": 6,
   "id": "54fc3a0f",
   "metadata": {},
   "outputs": [],
   "source": [
    "import sys\n",
    "import os\n",
    "sys.path.append('..')\n",
    "from acedb import AceDB\n"
   ]
  },
  {
   "cell_type": "code",
   "execution_count": 7,
   "id": "b688e013",
   "metadata": {},
   "outputs": [
    {
     "name": "stdout",
     "output_type": "stream",
     "text": [
      "Database connection established.\n",
      "Databento client initialized.\n"
     ]
    }
   ],
   "source": [
    "acedb = AceDB()"
   ]
  },
  {
   "cell_type": "code",
   "execution_count": null,
   "id": "806e350c",
   "metadata": {},
   "outputs": [
    {
     "name": "stdout",
     "output_type": "stream",
     "text": [
      "Downloading data...\n"
     ]
    },
    {
     "name": "stderr",
     "output_type": "stream",
     "text": [
      "/Users/carloteufel/Documents/Projects/acedb/tests/../acedb/dbnclient.py:32: BentoWarning: The streaming request contained one or more days which have reduced quality: 2021-07-07 (degraded), 2021-10-26 (degraded), 2022-09-19 (degraded). See: https://databento.com/docs/api-reference-historical/metadata/metadata-get-dataset-condition\n",
      "  data = self._client.timeseries.get_range(\n"
     ]
    },
    {
     "name": "stdout",
     "output_type": "stream",
     "text": [
      "Data inserted into XNAS_ITCH.ohlcv_1m.\n",
      "Data downloaded and inserted into database.\n"
     ]
    }
   ],
   "source": [
    "data=acedb.get_data(dataset='XNAS.ITCH',schemas='ohlcv-1h',symbols='NVDA')"
   ]
  },
  {
   "cell_type": "code",
   "execution_count": 9,
   "id": "9ec6eada",
   "metadata": {},
   "outputs": [
    {
     "data": {
      "text/plain": [
       "{'ohlcv-1m':                    ts_event rtype publisher_id instrument_id     open  \\\n",
       " 0       2018-05-01 09:54:00    33            2          5557  224.300   \n",
       " 1       2018-05-01 16:25:00    33            2          5557  224.250   \n",
       " 2       2018-05-01 16:26:00    33            2          5557  224.140   \n",
       " 3       2018-05-01 16:27:00    33            2          5557  224.320   \n",
       " 4       2018-05-01 16:28:00    33            2          5557  224.500   \n",
       " ...                     ...   ...          ...           ...      ...   \n",
       " 1293238 2025-04-28 23:38:00    33            2         11667  108.190   \n",
       " 1293239 2025-04-28 23:39:00    33            2         11667  108.200   \n",
       " 1293240 2025-04-28 23:40:00    33            2         11667  108.190   \n",
       " 1293241 2025-04-28 23:41:00    33            2         11667  108.170   \n",
       " 1293242 2025-04-28 23:42:00    33            2         11667  108.190   \n",
       " \n",
       "             high      low    close volume symbol  \n",
       " 0        224.300  224.300  224.300    100   NVDA  \n",
       " 1        224.250  223.940  224.130   1547   NVDA  \n",
       " 2        224.400  224.140  224.400   1445   NVDA  \n",
       " 3        224.510  224.270  224.510   1799   NVDA  \n",
       " 4        224.680  224.460  224.650   1950   NVDA  \n",
       " ...          ...      ...      ...    ...    ...  \n",
       " 1293238  108.200  108.190  108.200    169   NVDA  \n",
       " 1293239  108.200  108.200  108.200    100   NVDA  \n",
       " 1293240  108.190  108.110  108.170   1087   NVDA  \n",
       " 1293241  108.190  108.170  108.190    406   NVDA  \n",
       " 1293242  108.190  108.180  108.180     14   NVDA  \n",
       " \n",
       " [1293243 rows x 10 columns]}"
      ]
     },
     "execution_count": 9,
     "metadata": {},
     "output_type": "execute_result"
    }
   ],
   "source": [
    "data"
   ]
  },
  {
   "cell_type": "code",
   "execution_count": null,
   "id": "1d39e554",
   "metadata": {},
   "outputs": [],
   "source": []
  }
 ],
 "metadata": {
  "kernelspec": {
   "display_name": ".venv",
   "language": "python",
   "name": "python3"
  },
  "language_info": {
   "codemirror_mode": {
    "name": "ipython",
    "version": 3
   },
   "file_extension": ".py",
   "mimetype": "text/x-python",
   "name": "python",
   "nbconvert_exporter": "python",
   "pygments_lexer": "ipython3",
   "version": "3.11.8"
  }
 },
 "nbformat": 4,
 "nbformat_minor": 5
}
